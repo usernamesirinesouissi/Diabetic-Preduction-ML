{
 "cells": [
  {
   "cell_type": "markdown",
   "metadata": {
    "id": "uCIela36ctm0"
   },
   "source": [
    "**Importing Libraries**\n"
   ]
  },
  {
   "cell_type": "code",
   "execution_count": 1,
   "metadata": {
    "colab": {
     "background_save": true
    },
    "id": "dhXN8InqS2LJ"
   },
   "outputs": [],
   "source": [
    "import pandas as pd\n",
    "import numpy as np\n",
    "import matplotlib.pyplot as plt\n",
    "import seaborn as sns\n",
    "from sklearn.preprocessing import OrdinalEncoder"
   ]
  },
  {
   "cell_type": "markdown",
   "metadata": {
    "id": "t1QhGfI6c4Fg"
   },
   "source": [
    "**Importing Dataset**\n"
   ]
  },
  {
   "cell_type": "code",
   "execution_count": 2,
   "metadata": {
    "colab": {
     "background_save": true
    },
    "id": "2lExtbZzcBtg"
   },
   "outputs": [],
   "source": [
    "data=pd.read_csv('diabet.csv')"
   ]
  },
  {
   "cell_type": "markdown",
   "metadata": {
    "id": "EBgKPAYBdCxY"
   },
   "source": [
    "**Exploratory Data Analysis**\n"
   ]
  },
  {
   "cell_type": "code",
   "execution_count": 3,
   "metadata": {
    "colab": {
     "background_save": true
    },
    "id": "rVIPxSupcJah"
   },
   "outputs": [
    {
     "data": {
      "text/html": [
       "<div>\n",
       "<style scoped>\n",
       "    .dataframe tbody tr th:only-of-type {\n",
       "        vertical-align: middle;\n",
       "    }\n",
       "\n",
       "    .dataframe tbody tr th {\n",
       "        vertical-align: top;\n",
       "    }\n",
       "\n",
       "    .dataframe thead th {\n",
       "        text-align: right;\n",
       "    }\n",
       "</style>\n",
       "<table border=\"1\" class=\"dataframe\">\n",
       "  <thead>\n",
       "    <tr style=\"text-align: right;\">\n",
       "      <th></th>\n",
       "      <th>gender</th>\n",
       "      <th>age</th>\n",
       "      <th>hypertension</th>\n",
       "      <th>heart_disease</th>\n",
       "      <th>smoking_history</th>\n",
       "      <th>bmi</th>\n",
       "      <th>HbA1c_level</th>\n",
       "      <th>blood_glucose_level</th>\n",
       "      <th>diabetes</th>\n",
       "    </tr>\n",
       "  </thead>\n",
       "  <tbody>\n",
       "    <tr>\n",
       "      <th>0</th>\n",
       "      <td>Female</td>\n",
       "      <td>80.0</td>\n",
       "      <td>0</td>\n",
       "      <td>1</td>\n",
       "      <td>never</td>\n",
       "      <td>25.19</td>\n",
       "      <td>6.6</td>\n",
       "      <td>140</td>\n",
       "      <td>0</td>\n",
       "    </tr>\n",
       "    <tr>\n",
       "      <th>1</th>\n",
       "      <td>Female</td>\n",
       "      <td>54.0</td>\n",
       "      <td>0</td>\n",
       "      <td>0</td>\n",
       "      <td>No Info</td>\n",
       "      <td>27.32</td>\n",
       "      <td>6.6</td>\n",
       "      <td>80</td>\n",
       "      <td>0</td>\n",
       "    </tr>\n",
       "    <tr>\n",
       "      <th>2</th>\n",
       "      <td>Male</td>\n",
       "      <td>28.0</td>\n",
       "      <td>0</td>\n",
       "      <td>0</td>\n",
       "      <td>never</td>\n",
       "      <td>27.32</td>\n",
       "      <td>5.7</td>\n",
       "      <td>158</td>\n",
       "      <td>0</td>\n",
       "    </tr>\n",
       "    <tr>\n",
       "      <th>3</th>\n",
       "      <td>Female</td>\n",
       "      <td>36.0</td>\n",
       "      <td>0</td>\n",
       "      <td>0</td>\n",
       "      <td>current</td>\n",
       "      <td>23.45</td>\n",
       "      <td>5.0</td>\n",
       "      <td>155</td>\n",
       "      <td>0</td>\n",
       "    </tr>\n",
       "    <tr>\n",
       "      <th>4</th>\n",
       "      <td>Male</td>\n",
       "      <td>76.0</td>\n",
       "      <td>1</td>\n",
       "      <td>1</td>\n",
       "      <td>current</td>\n",
       "      <td>20.14</td>\n",
       "      <td>4.8</td>\n",
       "      <td>155</td>\n",
       "      <td>0</td>\n",
       "    </tr>\n",
       "  </tbody>\n",
       "</table>\n",
       "</div>"
      ],
      "text/plain": [
       "   gender   age  hypertension  heart_disease smoking_history    bmi  \\\n",
       "0  Female  80.0             0              1           never  25.19   \n",
       "1  Female  54.0             0              0         No Info  27.32   \n",
       "2    Male  28.0             0              0           never  27.32   \n",
       "3  Female  36.0             0              0         current  23.45   \n",
       "4    Male  76.0             1              1         current  20.14   \n",
       "\n",
       "   HbA1c_level  blood_glucose_level  diabetes  \n",
       "0          6.6                  140         0  \n",
       "1          6.6                   80         0  \n",
       "2          5.7                  158         0  \n",
       "3          5.0                  155         0  \n",
       "4          4.8                  155         0  "
      ]
     },
     "execution_count": 3,
     "metadata": {},
     "output_type": "execute_result"
    }
   ],
   "source": [
    "data.head()"
   ]
  },
  {
   "cell_type": "markdown",
   "metadata": {
    "id": "Bqf1Tcas-O-N"
   },
   "source": []
  },
  {
   "cell_type": "markdown",
   "metadata": {
    "id": "pl0_kYhK-PT3"
   },
   "source": []
  },
  {
   "cell_type": "markdown",
   "metadata": {
    "id": "yj7kHG9k-PfO"
   },
   "source": []
  },
  {
   "cell_type": "markdown",
   "metadata": {
    "id": "DvbIs5lb-Ppo"
   },
   "source": []
  },
  {
   "cell_type": "markdown",
   "metadata": {
    "id": "-xYfyPQq-P7y"
   },
   "source": []
  },
  {
   "cell_type": "markdown",
   "metadata": {
    "id": "-NqVeSHs-QAB"
   },
   "source": []
  },
  {
   "cell_type": "markdown",
   "metadata": {
    "id": "IN94lVGf-QZX"
   },
   "source": []
  },
  {
   "cell_type": "code",
   "execution_count": 4,
   "metadata": {
    "colab": {
     "background_save": true
    },
    "id": "kOQLRf2ncTlN"
   },
   "outputs": [
    {
     "data": {
      "text/plain": [
       "Index(['gender', 'age', 'hypertension', 'heart_disease', 'smoking_history',\n",
       "       'bmi', 'HbA1c_level', 'blood_glucose_level', 'diabetes'],\n",
       "      dtype='object')"
      ]
     },
     "execution_count": 4,
     "metadata": {},
     "output_type": "execute_result"
    }
   ],
   "source": [
    "data.columns"
   ]
  },
  {
   "cell_type": "code",
   "execution_count": 5,
   "metadata": {
    "colab": {
     "background_save": true
    },
    "id": "0XgMkTtcdI1J"
   },
   "outputs": [
    {
     "data": {
      "text/plain": [
       "(100000, 9)"
      ]
     },
     "execution_count": 5,
     "metadata": {},
     "output_type": "execute_result"
    }
   ],
   "source": [
    "data.shape"
   ]
  },
  {
   "cell_type": "markdown",
   "metadata": {
    "id": "WFDMWfLOdPaX"
   },
   "source": [
    "We have 100 000 rows and 9 columns(features)\n"
   ]
  },
  {
   "cell_type": "code",
   "execution_count": 6,
   "metadata": {
    "colab": {
     "background_save": true
    },
    "id": "usBvs_tnexqE"
   },
   "outputs": [
    {
     "name": "stdout",
     "output_type": "stream",
     "text": [
      "<class 'pandas.core.frame.DataFrame'>\n",
      "RangeIndex: 100000 entries, 0 to 99999\n",
      "Data columns (total 9 columns):\n",
      " #   Column               Non-Null Count   Dtype  \n",
      "---  ------               --------------   -----  \n",
      " 0   gender               100000 non-null  object \n",
      " 1   age                  100000 non-null  float64\n",
      " 2   hypertension         100000 non-null  int64  \n",
      " 3   heart_disease        100000 non-null  int64  \n",
      " 4   smoking_history      100000 non-null  object \n",
      " 5   bmi                  100000 non-null  float64\n",
      " 6   HbA1c_level          100000 non-null  float64\n",
      " 7   blood_glucose_level  100000 non-null  int64  \n",
      " 8   diabetes             100000 non-null  int64  \n",
      "dtypes: float64(3), int64(4), object(2)\n",
      "memory usage: 6.9+ MB\n"
     ]
    }
   ],
   "source": [
    "data.info()"
   ]
  },
  {
   "cell_type": "code",
   "execution_count": 7,
   "metadata": {
    "colab": {
     "background_save": true
    },
    "id": "xmS4yRkEieLa"
   },
   "outputs": [
    {
     "name": "stdout",
     "output_type": "stream",
     "text": [
      "   gender   age  hypertension  heart_disease  smoking_history    bmi  \\\n",
      "0       0  80.0             0              1                4  25.19   \n",
      "1       0  54.0             0              0                0  27.32   \n",
      "2       1  28.0             0              0                4  27.32   \n",
      "3       0  36.0             0              0                1  23.45   \n",
      "4       1  76.0             1              1                1  20.14   \n",
      "\n",
      "   HbA1c_level  blood_glucose_level  diabetes  \n",
      "0          6.6                  140         0  \n",
      "1          6.6                   80         0  \n",
      "2          5.7                  158         0  \n",
      "3          5.0                  155         0  \n",
      "4          4.8                  155         0  \n"
     ]
    }
   ],
   "source": [
    "# Assuming 'df' is your DataFrame\n",
    "cat_cols = [\"gender\", \"smoking_history\"]\n",
    "enc = OrdinalEncoder()\n",
    "\n",
    "# Assuming df contains the specified categorical columns\n",
    "data[cat_cols] = enc.fit_transform(data[cat_cols]).astype(int)\n",
    "\n",
    "# Display the first 5 rows of the DataFrame\n",
    "print(data.head(5))\n"
   ]
  },
  {
   "cell_type": "code",
   "execution_count": 8,
   "metadata": {
    "colab": {
     "background_save": true
    },
    "id": "EKklmeh8fP0t"
   },
   "outputs": [
    {
     "data": {
      "image/png": "[encoded data removed]",
      "text/plain": [
       "<Figure size 1008x576 with 4 Axes>"
      ]
     },
     "metadata": {
      "needs_background": "light"
     },
     "output_type": "display_data"
    }
   ],
   "source": [
    "fig, axes = plt.subplots(nrows=2, ncols=2, figsize=(14, 8))\n",
    "# Chart 1: Distribution of gender\n",
    "sns.countplot(x=\"gender\", data=data,hue = 'diabetes',ax=axes[0, 0])\n",
    "axes[0, 0].set_title(\"Distribution of Diabetes status within Gender\")\n",
    "axes[0, 0].set_xlabel(\"Gender\")\n",
    "axes[0, 0].set_ylabel(\"Count\")\n",
    "\n",
    "# Chart 2: Distribution of a hypertension\n",
    "sns.countplot(x=\"hypertension\", data=data, hue = 'diabetes', ax=axes[0, 1])\n",
    "axes[0, 1].set_title(\"Distribution of Diabetes status within Hypertension\")\n",
    "axes[0, 1].set_xlabel(\"Hypertension\")\n",
    "axes[0, 1].set_ylabel(\"Count\")\n",
    "\n",
    "# Chart 3: Distribution of heart disease\n",
    "sns.countplot(x=\"heart_disease\", hue = 'diabetes',data=data, ax=axes[1, 0])\n",
    "axes[1, 0].set_title(\"Distribution of Diabetes status within Heart Disease\")\n",
    "axes[1, 0].set_xlabel(\"Heart Disease\")\n",
    "axes[1, 0].set_ylabel(\"Count\")\n",
    "\n",
    "#Chart 4: Distribution of smoking history\n",
    "sns.countplot(x=\"smoking_history\", data=data, hue = 'diabetes', ax=axes[1, 1])\n",
    "axes[1, 1].set_title(\"Distribution of Diabetes status within Smoking History\")\n",
    "axes[1, 1].set_xlabel(\"Smoking History\")\n",
    "axes[1, 1].set_ylabel(\"Count\")\n",
    "\n",
    "\n",
    "\n",
    "plt.tight_layout()\n",
    "plt.show()"
   ]
  },
  {
   "cell_type": "code",
   "execution_count": 9,
   "metadata": {
    "colab": {
     "background_save": true
    },
    "id": "9Z98Iq2ElhDS"
   },
   "outputs": [
    {
     "data": {
      "image/png": "[encoded data removed]",
      "text/plain": [
       "<Figure size 792x576 with 4 Axes>"
      ]
     },
     "metadata": {
      "needs_background": "light"
     },
     "output_type": "display_data"
    }
   ],
   "source": [
    "# Calculate the percentage of diabetes status within each category\n",
    "gender_percentages = data.groupby('gender')['diabetes'].mean() * 100\n",
    "hypertension_percentages = data.groupby('hypertension')['diabetes'].mean() * 100\n",
    "heart_disease_percentages = data.groupby('heart_disease')['diabetes'].mean() * 100\n",
    "smoking_history_percentages = data.groupby('smoking_history')['diabetes'].mean() * 100\n",
    "\n",
    "# Plotting categorical features alongside target feature\n",
    "fig, axes = plt.subplots(nrows=2, ncols=2, figsize=(11, 8))\n",
    "\n",
    "# Chart 1: Distribution of gender\n",
    "sns.barplot(x=gender_percentages.index, y=gender_percentages.values, ax=axes[0, 0])\n",
    "axes[0, 0].set_title(\"Percentage Diabetic patients within Gender\")\n",
    "axes[0, 0].set_xlabel(\"Gender\")\n",
    "axes[0, 0].set_ylabel(\"Diabetes Percentage\")\n",
    "\n",
    "# Chart 2: Distribution of hypertension\n",
    "sns.barplot(x=hypertension_percentages.index, y=hypertension_percentages.values, ax=axes[0, 1])\n",
    "axes[0, 1].set_title(\"Percentage Diabetic patients within Hypertension\")\n",
    "axes[0, 1].set_xlabel(\"Hypertension\")\n",
    "axes[0, 1].set_ylabel(\"Diabetes Percentage\")\n",
    "\n",
    "# Chart 3: Distribution of heart disease\n",
    "sns.barplot(x=heart_disease_percentages.index, y=heart_disease_percentages.values, ax=axes[1, 0])\n",
    "axes[1, 0].set_title(\"Percentage Diabetic patients within Heart Disease\")\n",
    "axes[1, 0].set_xlabel(\"Heart Disease\")\n",
    "axes[1, 0].set_ylabel(\"Diabetes Percentage\")\n",
    "\n",
    "# Chart 4: Distribution of smoking history\n",
    "sns.barplot(x=smoking_history_percentages.index, y=smoking_history_percentages.values, ax=axes[1, 1])\n",
    "axes[1, 1].set_title(\"Percentage Diabetic patients within Smoking History\")\n",
    "axes[1, 1].set_xlabel(\"Smoking History\")\n",
    "axes[1, 1].set_ylabel(\"Diabetes Percentage\")\n",
    "\n",
    "plt.tight_layout()\n",
    "plt.show()"
   ]
  },
  {
   "cell_type": "code",
   "execution_count": 10,
   "metadata": {
    "colab": {
     "background_save": true
    },
    "id": "_uimKPGGmE2D"
   },
   "outputs": [
    {
     "data": {
      "text/plain": [
       "gender                 False\n",
       "age                    False\n",
       "hypertension           False\n",
       "heart_disease          False\n",
       "smoking_history        False\n",
       "bmi                    False\n",
       "HbA1c_level            False\n",
       "blood_glucose_level    False\n",
       "diabetes               False\n",
       "dtype: bool"
      ]
     },
     "execution_count": 10,
     "metadata": {},
     "output_type": "execute_result"
    }
   ],
   "source": [
    "#check for null values\n",
    "data.isna().any()"
   ]
  },
  {
   "cell_type": "code",
   "execution_count": 11,
   "metadata": {
    "colab": {
     "background_save": true
    },
    "id": "Sn80jDlvtJWU"
   },
   "outputs": [
    {
     "data": {
      "image/png": "[encoded data removed]",
      "text/plain": [
       "<Figure size 576x432 with 2 Axes>"
      ]
     },
     "metadata": {
      "needs_background": "light"
     },
     "output_type": "display_data"
    }
   ],
   "source": [
    "#checking correlation between features\n",
    "plt.figure(figsize=(8, 6))\n",
    "sns.heatmap(data.corr(), annot=True, linewidths=2)\n",
    "plt.show()"
   ]
  },
  {
   "cell_type": "markdown",
   "metadata": {
    "id": "JFuQ9lUstgP9"
   },
   "source": [
    "**Interpretation:**\n",
    "* Features with high positive correlation values (close to 1) tend to\n",
    "move in the same direction.\n",
    "* Features with high negative correlation values (close to -1) tend to move in opposite directions.\n",
    "* Features with correlation values close to 0 have a weak linear relationship."
   ]
  },
  {
   "cell_type": "code",
   "execution_count": 12,
   "metadata": {
    "colab": {
     "background_save": true
    },
    "id": "nJQgwzrBe4Ch"
   },
   "outputs": [
    {
     "data": {
      "text/html": [
       "<div>\n",
       "<style scoped>\n",
       "    .dataframe tbody tr th:only-of-type {\n",
       "        vertical-align: middle;\n",
       "    }\n",
       "\n",
       "    .dataframe tbody tr th {\n",
       "        vertical-align: top;\n",
       "    }\n",
       "\n",
       "    .dataframe thead th {\n",
       "        text-align: right;\n",
       "    }\n",
       "</style>\n",
       "<table border=\"1\" class=\"dataframe\">\n",
       "  <thead>\n",
       "    <tr style=\"text-align: right;\">\n",
       "      <th></th>\n",
       "      <th>gender</th>\n",
       "      <th>age</th>\n",
       "      <th>hypertension</th>\n",
       "      <th>heart_disease</th>\n",
       "      <th>smoking_history</th>\n",
       "      <th>bmi</th>\n",
       "      <th>HbA1c_level</th>\n",
       "      <th>blood_glucose_level</th>\n",
       "      <th>diabetes</th>\n",
       "    </tr>\n",
       "  </thead>\n",
       "  <tbody>\n",
       "    <tr>\n",
       "      <th>count</th>\n",
       "      <td>100000.000000</td>\n",
       "      <td>100000.000000</td>\n",
       "      <td>100000.00000</td>\n",
       "      <td>100000.000000</td>\n",
       "      <td>100000.000000</td>\n",
       "      <td>100000.000000</td>\n",
       "      <td>100000.000000</td>\n",
       "      <td>100000.000000</td>\n",
       "      <td>100000.000000</td>\n",
       "    </tr>\n",
       "    <tr>\n",
       "      <th>mean</th>\n",
       "      <td>0.414660</td>\n",
       "      <td>41.885856</td>\n",
       "      <td>0.07485</td>\n",
       "      <td>0.039420</td>\n",
       "      <td>2.179650</td>\n",
       "      <td>27.320767</td>\n",
       "      <td>5.527507</td>\n",
       "      <td>138.058060</td>\n",
       "      <td>0.085000</td>\n",
       "    </tr>\n",
       "    <tr>\n",
       "      <th>std</th>\n",
       "      <td>0.493031</td>\n",
       "      <td>22.516840</td>\n",
       "      <td>0.26315</td>\n",
       "      <td>0.194593</td>\n",
       "      <td>1.889659</td>\n",
       "      <td>6.636783</td>\n",
       "      <td>1.070672</td>\n",
       "      <td>40.708136</td>\n",
       "      <td>0.278883</td>\n",
       "    </tr>\n",
       "    <tr>\n",
       "      <th>min</th>\n",
       "      <td>0.000000</td>\n",
       "      <td>0.080000</td>\n",
       "      <td>0.00000</td>\n",
       "      <td>0.000000</td>\n",
       "      <td>0.000000</td>\n",
       "      <td>10.010000</td>\n",
       "      <td>3.500000</td>\n",
       "      <td>80.000000</td>\n",
       "      <td>0.000000</td>\n",
       "    </tr>\n",
       "    <tr>\n",
       "      <th>25%</th>\n",
       "      <td>0.000000</td>\n",
       "      <td>24.000000</td>\n",
       "      <td>0.00000</td>\n",
       "      <td>0.000000</td>\n",
       "      <td>0.000000</td>\n",
       "      <td>23.630000</td>\n",
       "      <td>4.800000</td>\n",
       "      <td>100.000000</td>\n",
       "      <td>0.000000</td>\n",
       "    </tr>\n",
       "    <tr>\n",
       "      <th>50%</th>\n",
       "      <td>0.000000</td>\n",
       "      <td>43.000000</td>\n",
       "      <td>0.00000</td>\n",
       "      <td>0.000000</td>\n",
       "      <td>3.000000</td>\n",
       "      <td>27.320000</td>\n",
       "      <td>5.800000</td>\n",
       "      <td>140.000000</td>\n",
       "      <td>0.000000</td>\n",
       "    </tr>\n",
       "    <tr>\n",
       "      <th>75%</th>\n",
       "      <td>1.000000</td>\n",
       "      <td>60.000000</td>\n",
       "      <td>0.00000</td>\n",
       "      <td>0.000000</td>\n",
       "      <td>4.000000</td>\n",
       "      <td>29.580000</td>\n",
       "      <td>6.200000</td>\n",
       "      <td>159.000000</td>\n",
       "      <td>0.000000</td>\n",
       "    </tr>\n",
       "    <tr>\n",
       "      <th>max</th>\n",
       "      <td>2.000000</td>\n",
       "      <td>80.000000</td>\n",
       "      <td>1.00000</td>\n",
       "      <td>1.000000</td>\n",
       "      <td>5.000000</td>\n",
       "      <td>95.690000</td>\n",
       "      <td>9.000000</td>\n",
       "      <td>300.000000</td>\n",
       "      <td>1.000000</td>\n",
       "    </tr>\n",
       "  </tbody>\n",
       "</table>\n",
       "</div>"
      ],
      "text/plain": [
       "              gender            age  hypertension  heart_disease  \\\n",
       "count  100000.000000  100000.000000  100000.00000  100000.000000   \n",
       "mean        0.414660      41.885856       0.07485       0.039420   \n",
       "std         0.493031      22.516840       0.26315       0.194593   \n",
       "min         0.000000       0.080000       0.00000       0.000000   \n",
       "25%         0.000000      24.000000       0.00000       0.000000   \n",
       "50%         0.000000      43.000000       0.00000       0.000000   \n",
       "75%         1.000000      60.000000       0.00000       0.000000   \n",
       "max         2.000000      80.000000       1.00000       1.000000   \n",
       "\n",
       "       smoking_history            bmi    HbA1c_level  blood_glucose_level  \\\n",
       "count    100000.000000  100000.000000  100000.000000        100000.000000   \n",
       "mean          2.179650      27.320767       5.527507           138.058060   \n",
       "std           1.889659       6.636783       1.070672            40.708136   \n",
       "min           0.000000      10.010000       3.500000            80.000000   \n",
       "25%           0.000000      23.630000       4.800000           100.000000   \n",
       "50%           3.000000      27.320000       5.800000           140.000000   \n",
       "75%           4.000000      29.580000       6.200000           159.000000   \n",
       "max           5.000000      95.690000       9.000000           300.000000   \n",
       "\n",
       "            diabetes  \n",
       "count  100000.000000  \n",
       "mean        0.085000  \n",
       "std         0.278883  \n",
       "min         0.000000  \n",
       "25%         0.000000  \n",
       "50%         0.000000  \n",
       "75%         0.000000  \n",
       "max         1.000000  "
      ]
     },
     "execution_count": 12,
     "metadata": {},
     "output_type": "execute_result"
    }
   ],
   "source": [
    "data.describe()\n",
    "#habit nra win aandi kes 0"
   ]
  },
  {
   "cell_type": "markdown",
   "metadata": {
    "id": "eyZ7svHQvB_H"
   },
   "source": [
    "It's impossible to have hypertension & heart_disease with zeos\n",
    "\n"
   ]
  },
  {
   "cell_type": "code",
   "execution_count": 13,
   "metadata": {
    "colab": {
     "background_save": true
    },
    "id": "93I3TxvguYdL"
   },
   "outputs": [
    {
     "data": {
      "text/html": [
       "<div>\n",
       "<style scoped>\n",
       "    .dataframe tbody tr th:only-of-type {\n",
       "        vertical-align: middle;\n",
       "    }\n",
       "\n",
       "    .dataframe tbody tr th {\n",
       "        vertical-align: top;\n",
       "    }\n",
       "\n",
       "    .dataframe thead th {\n",
       "        text-align: right;\n",
       "    }\n",
       "</style>\n",
       "<table border=\"1\" class=\"dataframe\">\n",
       "  <thead>\n",
       "    <tr style=\"text-align: right;\">\n",
       "      <th></th>\n",
       "      <th>gender</th>\n",
       "      <th>age</th>\n",
       "      <th>hypertension</th>\n",
       "      <th>heart_disease</th>\n",
       "      <th>smoking_history</th>\n",
       "      <th>bmi</th>\n",
       "      <th>HbA1c_level</th>\n",
       "      <th>blood_glucose_level</th>\n",
       "      <th>diabetes</th>\n",
       "    </tr>\n",
       "  </thead>\n",
       "  <tbody>\n",
       "    <tr>\n",
       "      <th>0</th>\n",
       "      <td>0</td>\n",
       "      <td>80.0</td>\n",
       "      <td>NaN</td>\n",
       "      <td>1.0</td>\n",
       "      <td>4</td>\n",
       "      <td>25.19</td>\n",
       "      <td>6.6</td>\n",
       "      <td>140</td>\n",
       "      <td>0</td>\n",
       "    </tr>\n",
       "    <tr>\n",
       "      <th>1</th>\n",
       "      <td>0</td>\n",
       "      <td>54.0</td>\n",
       "      <td>NaN</td>\n",
       "      <td>NaN</td>\n",
       "      <td>0</td>\n",
       "      <td>27.32</td>\n",
       "      <td>6.6</td>\n",
       "      <td>80</td>\n",
       "      <td>0</td>\n",
       "    </tr>\n",
       "    <tr>\n",
       "      <th>2</th>\n",
       "      <td>1</td>\n",
       "      <td>28.0</td>\n",
       "      <td>NaN</td>\n",
       "      <td>NaN</td>\n",
       "      <td>4</td>\n",
       "      <td>27.32</td>\n",
       "      <td>5.7</td>\n",
       "      <td>158</td>\n",
       "      <td>0</td>\n",
       "    </tr>\n",
       "    <tr>\n",
       "      <th>3</th>\n",
       "      <td>0</td>\n",
       "      <td>36.0</td>\n",
       "      <td>NaN</td>\n",
       "      <td>NaN</td>\n",
       "      <td>1</td>\n",
       "      <td>23.45</td>\n",
       "      <td>5.0</td>\n",
       "      <td>155</td>\n",
       "      <td>0</td>\n",
       "    </tr>\n",
       "    <tr>\n",
       "      <th>4</th>\n",
       "      <td>1</td>\n",
       "      <td>76.0</td>\n",
       "      <td>1.0</td>\n",
       "      <td>1.0</td>\n",
       "      <td>1</td>\n",
       "      <td>20.14</td>\n",
       "      <td>4.8</td>\n",
       "      <td>155</td>\n",
       "      <td>0</td>\n",
       "    </tr>\n",
       "    <tr>\n",
       "      <th>5</th>\n",
       "      <td>0</td>\n",
       "      <td>20.0</td>\n",
       "      <td>NaN</td>\n",
       "      <td>NaN</td>\n",
       "      <td>4</td>\n",
       "      <td>27.32</td>\n",
       "      <td>6.6</td>\n",
       "      <td>85</td>\n",
       "      <td>0</td>\n",
       "    </tr>\n",
       "    <tr>\n",
       "      <th>6</th>\n",
       "      <td>0</td>\n",
       "      <td>44.0</td>\n",
       "      <td>NaN</td>\n",
       "      <td>NaN</td>\n",
       "      <td>4</td>\n",
       "      <td>19.31</td>\n",
       "      <td>6.5</td>\n",
       "      <td>200</td>\n",
       "      <td>1</td>\n",
       "    </tr>\n",
       "    <tr>\n",
       "      <th>7</th>\n",
       "      <td>0</td>\n",
       "      <td>79.0</td>\n",
       "      <td>NaN</td>\n",
       "      <td>NaN</td>\n",
       "      <td>0</td>\n",
       "      <td>23.86</td>\n",
       "      <td>5.7</td>\n",
       "      <td>85</td>\n",
       "      <td>0</td>\n",
       "    </tr>\n",
       "    <tr>\n",
       "      <th>8</th>\n",
       "      <td>1</td>\n",
       "      <td>42.0</td>\n",
       "      <td>NaN</td>\n",
       "      <td>NaN</td>\n",
       "      <td>4</td>\n",
       "      <td>33.64</td>\n",
       "      <td>4.8</td>\n",
       "      <td>145</td>\n",
       "      <td>0</td>\n",
       "    </tr>\n",
       "    <tr>\n",
       "      <th>9</th>\n",
       "      <td>0</td>\n",
       "      <td>32.0</td>\n",
       "      <td>NaN</td>\n",
       "      <td>NaN</td>\n",
       "      <td>4</td>\n",
       "      <td>27.32</td>\n",
       "      <td>5.0</td>\n",
       "      <td>100</td>\n",
       "      <td>0</td>\n",
       "    </tr>\n",
       "  </tbody>\n",
       "</table>\n",
       "</div>"
      ],
      "text/plain": [
       "   gender   age  hypertension  heart_disease  smoking_history    bmi  \\\n",
       "0       0  80.0           NaN            1.0                4  25.19   \n",
       "1       0  54.0           NaN            NaN                0  27.32   \n",
       "2       1  28.0           NaN            NaN                4  27.32   \n",
       "3       0  36.0           NaN            NaN                1  23.45   \n",
       "4       1  76.0           1.0            1.0                1  20.14   \n",
       "5       0  20.0           NaN            NaN                4  27.32   \n",
       "6       0  44.0           NaN            NaN                4  19.31   \n",
       "7       0  79.0           NaN            NaN                0  23.86   \n",
       "8       1  42.0           NaN            NaN                4  33.64   \n",
       "9       0  32.0           NaN            NaN                4  27.32   \n",
       "\n",
       "   HbA1c_level  blood_glucose_level  diabetes  \n",
       "0          6.6                  140         0  \n",
       "1          6.6                   80         0  \n",
       "2          5.7                  158         0  \n",
       "3          5.0                  155         0  \n",
       "4          4.8                  155         0  \n",
       "5          6.6                   85         0  \n",
       "6          6.5                  200         1  \n",
       "7          5.7                   85         0  \n",
       "8          4.8                  145         0  \n",
       "9          5.0                  100         0  "
      ]
     },
     "execution_count": 13,
     "metadata": {},
     "output_type": "execute_result"
    }
   ],
   "source": [
    "#replace zero values with np.nan to visualize them\n",
    "zero_not_accepted = [\"hypertension\", \"heart_disease\"]\n",
    "for col in zero_not_accepted:\n",
    "    data[col].replace(0, np.nan, inplace=True)\n",
    "\n",
    "#checkf if zeros were replaced in required columns\n",
    "data.head(n=10)"
   ]
  },
  {
   "cell_type": "code",
   "execution_count": 14,
   "metadata": {
    "colab": {
     "background_save": true
    },
    "id": "WyYEWWg7whnj"
   },
   "outputs": [
    {
     "data": {
      "image/png": "[encoded data removed]",
      "text/plain": [
       "<Figure size 648x360 with 1 Axes>"
      ]
     },
     "metadata": {
      "needs_background": "light"
     },
     "output_type": "display_data"
    }
   ],
   "source": [
    "#Visualizing Null values\n",
    "plt.figure(figsize=(9,5))\n",
    "ax = sns.barplot(x=data.isna().sum(),\n",
    "           y=data.columns, orient='h')\n",
    "for p in ax.patches:\n",
    "    ax.annotate(text=f\"{p.get_width():.0f}\",\n",
    "                xy=(p.get_width(), p.get_y()+p.get_height()/2),\n",
    "                xytext=(5, 0), textcoords='offset points',\n",
    "                ha=\"left\", va=\"center\",\n",
    "               )\n",
    "plt.grid(False)\n",
    "plt.show()"
   ]
  },
  {
   "cell_type": "markdown",
   "metadata": {
    "id": "CySiSyvyw080"
   },
   "source": [
    "==> hypertension and heart_disease aandhom barcha zerowett"
   ]
  },
  {
   "cell_type": "code",
   "execution_count": 15,
   "metadata": {
    "colab": {
     "background_save": true
    },
    "id": "xsy1bKC5w9W3"
   },
   "outputs": [],
   "source": [
    "#imputing mean instead of null values\n",
    "for col in zero_not_accepted:\n",
    "    data[col].replace(np.nan, data[col].mean(), inplace=True)"
   ]
  },
  {
   "cell_type": "code",
   "execution_count": 16,
   "metadata": {
    "colab": {
     "background_save": true
    },
    "id": "Zw5bz9-8xDLE"
   },
   "outputs": [
    {
     "data": {
      "text/html": [
       "<div>\n",
       "<style scoped>\n",
       "    .dataframe tbody tr th:only-of-type {\n",
       "        vertical-align: middle;\n",
       "    }\n",
       "\n",
       "    .dataframe tbody tr th {\n",
       "        vertical-align: top;\n",
       "    }\n",
       "\n",
       "    .dataframe thead th {\n",
       "        text-align: right;\n",
       "    }\n",
       "</style>\n",
       "<table border=\"1\" class=\"dataframe\">\n",
       "  <thead>\n",
       "    <tr style=\"text-align: right;\">\n",
       "      <th></th>\n",
       "      <th>count</th>\n",
       "      <th>mean</th>\n",
       "      <th>std</th>\n",
       "      <th>min</th>\n",
       "      <th>25%</th>\n",
       "      <th>50%</th>\n",
       "      <th>75%</th>\n",
       "      <th>max</th>\n",
       "    </tr>\n",
       "  </thead>\n",
       "  <tbody>\n",
       "    <tr>\n",
       "      <th>gender</th>\n",
       "      <td>100000.0</td>\n",
       "      <td>0.41</td>\n",
       "      <td>0.49</td>\n",
       "      <td>0.00</td>\n",
       "      <td>0.00</td>\n",
       "      <td>0.00</td>\n",
       "      <td>1.00</td>\n",
       "      <td>2.00</td>\n",
       "    </tr>\n",
       "    <tr>\n",
       "      <th>age</th>\n",
       "      <td>100000.0</td>\n",
       "      <td>41.89</td>\n",
       "      <td>22.52</td>\n",
       "      <td>0.08</td>\n",
       "      <td>24.00</td>\n",
       "      <td>43.00</td>\n",
       "      <td>60.00</td>\n",
       "      <td>80.00</td>\n",
       "    </tr>\n",
       "    <tr>\n",
       "      <th>hypertension</th>\n",
       "      <td>100000.0</td>\n",
       "      <td>1.00</td>\n",
       "      <td>0.00</td>\n",
       "      <td>1.00</td>\n",
       "      <td>1.00</td>\n",
       "      <td>1.00</td>\n",
       "      <td>1.00</td>\n",
       "      <td>1.00</td>\n",
       "    </tr>\n",
       "    <tr>\n",
       "      <th>heart_disease</th>\n",
       "      <td>100000.0</td>\n",
       "      <td>1.00</td>\n",
       "      <td>0.00</td>\n",
       "      <td>1.00</td>\n",
       "      <td>1.00</td>\n",
       "      <td>1.00</td>\n",
       "      <td>1.00</td>\n",
       "      <td>1.00</td>\n",
       "    </tr>\n",
       "    <tr>\n",
       "      <th>smoking_history</th>\n",
       "      <td>100000.0</td>\n",
       "      <td>2.18</td>\n",
       "      <td>1.89</td>\n",
       "      <td>0.00</td>\n",
       "      <td>0.00</td>\n",
       "      <td>3.00</td>\n",
       "      <td>4.00</td>\n",
       "      <td>5.00</td>\n",
       "    </tr>\n",
       "    <tr>\n",
       "      <th>bmi</th>\n",
       "      <td>100000.0</td>\n",
       "      <td>27.32</td>\n",
       "      <td>6.64</td>\n",
       "      <td>10.01</td>\n",
       "      <td>23.63</td>\n",
       "      <td>27.32</td>\n",
       "      <td>29.58</td>\n",
       "      <td>95.69</td>\n",
       "    </tr>\n",
       "    <tr>\n",
       "      <th>HbA1c_level</th>\n",
       "      <td>100000.0</td>\n",
       "      <td>5.53</td>\n",
       "      <td>1.07</td>\n",
       "      <td>3.50</td>\n",
       "      <td>4.80</td>\n",
       "      <td>5.80</td>\n",
       "      <td>6.20</td>\n",
       "      <td>9.00</td>\n",
       "    </tr>\n",
       "    <tr>\n",
       "      <th>blood_glucose_level</th>\n",
       "      <td>100000.0</td>\n",
       "      <td>138.06</td>\n",
       "      <td>40.71</td>\n",
       "      <td>80.00</td>\n",
       "      <td>100.00</td>\n",
       "      <td>140.00</td>\n",
       "      <td>159.00</td>\n",
       "      <td>300.00</td>\n",
       "    </tr>\n",
       "    <tr>\n",
       "      <th>diabetes</th>\n",
       "      <td>100000.0</td>\n",
       "      <td>0.08</td>\n",
       "      <td>0.28</td>\n",
       "      <td>0.00</td>\n",
       "      <td>0.00</td>\n",
       "      <td>0.00</td>\n",
       "      <td>0.00</td>\n",
       "      <td>1.00</td>\n",
       "    </tr>\n",
       "  </tbody>\n",
       "</table>\n",
       "</div>"
      ],
      "text/plain": [
       "                        count    mean    std    min     25%     50%     75%  \\\n",
       "gender               100000.0    0.41   0.49   0.00    0.00    0.00    1.00   \n",
       "age                  100000.0   41.89  22.52   0.08   24.00   43.00   60.00   \n",
       "hypertension         100000.0    1.00   0.00   1.00    1.00    1.00    1.00   \n",
       "heart_disease        100000.0    1.00   0.00   1.00    1.00    1.00    1.00   \n",
       "smoking_history      100000.0    2.18   1.89   0.00    0.00    3.00    4.00   \n",
       "bmi                  100000.0   27.32   6.64  10.01   23.63   27.32   29.58   \n",
       "HbA1c_level          100000.0    5.53   1.07   3.50    4.80    5.80    6.20   \n",
       "blood_glucose_level  100000.0  138.06  40.71  80.00  100.00  140.00  159.00   \n",
       "diabetes             100000.0    0.08   0.28   0.00    0.00    0.00    0.00   \n",
       "\n",
       "                        max  \n",
       "gender                 2.00  \n",
       "age                   80.00  \n",
       "hypertension           1.00  \n",
       "heart_disease          1.00  \n",
       "smoking_history        5.00  \n",
       "bmi                   95.69  \n",
       "HbA1c_level            9.00  \n",
       "blood_glucose_level  300.00  \n",
       "diabetes               1.00  "
      ]
     },
     "execution_count": 16,
     "metadata": {},
     "output_type": "execute_result"
    }
   ],
   "source": [
    "# Data check after replaceing zero values\n",
    "data.describe().transpose().round(2)"
   ]
  },
  {
   "cell_type": "code",
   "execution_count": 17,
   "metadata": {
    "colab": {
     "background_save": true
    },
    "id": "MMJYElhFxJLx"
   },
   "outputs": [
    {
     "data": {
      "image/png": "[encoded data removed]",
      "text/plain": [
       "<Figure size 648x360 with 1 Axes>"
      ]
     },
     "metadata": {
      "needs_background": "light"
     },
     "output_type": "display_data"
    }
   ],
   "source": [
    "#Visualizing Null values\n",
    "plt.figure(figsize=(9,5))\n",
    "ax = sns.barplot(x=data.isna().sum(),\n",
    "           y=data.columns, orient='h')\n",
    "for p in ax.patches:\n",
    "    ax.annotate(text=f\"{p.get_width():.0f}\",\n",
    "                xy=(p.get_width(), p.get_y()+p.get_height()/2),\n",
    "                xytext=(5, 0), textcoords='offset points',\n",
    "                ha=\"left\", va=\"center\",\n",
    "               )\n",
    "plt.grid(False)\n",
    "plt.show()"
   ]
  },
  {
   "cell_type": "markdown",
   "metadata": {
    "id": "wFnk0ERRxN2P"
   },
   "source": [
    "tawika maach aana hata valeur nulle\n"
   ]
  },
  {
   "cell_type": "code",
   "execution_count": null,
   "metadata": {
    "colab": {
     "background_save": true
    },
    "id": "1C1pu9PJyQ_9"
   },
   "outputs": [],
   "source": [
    "#Plot pairwise relationships in a dataset\n",
    "plt.figure(figsize=(20,20))\n",
    "sns.pairplot(data=data, hue=\"diabetes\", diag_kind=\"hist\")\n",
    "plt.show()"
   ]
  },
  {
   "cell_type": "markdown",
   "metadata": {
    "id": "kEch6v-m1nvT"
   },
   "source": [
    "**Data Preprocessing**\n",
    "There are mainly 3 things to be performed\n",
    "1. Extracting input and output features.\n",
    "2. Splitting the dataset into Training and Testing set.\n",
    "3. Feature Scaling.\n",
    "\n",
    "\n",
    "\n"
   ]
  },
  {
   "cell_type": "markdown",
   "metadata": {
    "id": "MZnPu0SZ1xLY"
   },
   "source": [
    "**Extracting input(independent) and output(dependent) feature**"
   ]
  },
  {
   "cell_type": "code",
   "execution_count": null,
   "metadata": {
    "colab": {
     "background_save": true
    },
    "id": "q_eU1amTCY-W"
   },
   "outputs": [],
   "source": [
    "# Assuming 'dataset' is your DataFrame\n",
    "X = data.iloc[:, :-1].values\n",
    "y = data.iloc[:, -1].values\n",
    "print(X)\n",
    "for value in y[:9]:\n",
    "    print(value)"
   ]
  },
  {
   "cell_type": "markdown",
   "metadata": {
    "id": "g3PZ-zJpF-MP"
   },
   "source": [
    "**Handling Class Imbalance Problem using Over Sampling**"
   ]
  },
  {
   "cell_type": "code",
   "execution_count": null,
   "metadata": {
    "colab": {
     "background_save": true
    },
    "id": "elc0-ATFGEH3"
   },
   "outputs": [],
   "source": [
    "from imblearn.combine import SMOTETomek\n",
    "smk = SMOTETomek(random_state=0)\n",
    "X_r, y_r = smk.fit_resample(X, y)"
   ]
  },
  {
   "cell_type": "code",
   "execution_count": null,
   "metadata": {
    "colab": {
     "background_save": true
    },
    "id": "SDvVk7JqGVO-"
   },
   "outputs": [],
   "source": [
    "#Check if over sampling worked\n",
    "from collections import Counter\n",
    "print(f\"Initial counts: {Counter(y)}\")\n",
    "print(f\"Resampled Counts: {Counter(y_r)}\")"
   ]
  },
  {
   "cell_type": "code",
   "execution_count": null,
   "metadata": {
    "colab": {
     "background_save": true
    },
    "id": "v0JcvBcFGfwx"
   },
   "outputs": [],
   "source": [
    "print(X_r.shape, y_r.shape)"
   ]
  },
  {
   "cell_type": "code",
   "execution_count": null,
   "metadata": {
    "colab": {
     "background_save": true
    },
    "id": "Im2sTHwrGkIK"
   },
   "outputs": [],
   "source": [
    "#updating the input and output features for further exploration\n",
    "X = X_r\n",
    "y = y_r"
   ]
  },
  {
   "cell_type": "markdown",
   "metadata": {
    "id": "yiPejuehGq7F"
   },
   "source": [
    "**Splitting the Dataset into Training and Test Set**"
   ]
  },
  {
   "cell_type": "code",
   "execution_count": null,
   "metadata": {
    "colab": {
     "background_save": true
    },
    "id": "f_-4GAXjGmve"
   },
   "outputs": [],
   "source": [
    "#split the dataset in Training set and Test set\n",
    "from sklearn.model_selection import train_test_split\n",
    "X_train, X_test, y_train, y_test = train_test_split(X, y,\n",
    "                                                   test_size=0.2,\n",
    "                                                   random_state=0)"
   ]
  },
  {
   "cell_type": "code",
   "execution_count": null,
   "metadata": {
    "colab": {
     "background_save": true
    },
    "id": "x6xpbVMHG-tK"
   },
   "outputs": [],
   "source": [
    "print(X_train.shape)\n",
    "print(X_train)"
   ]
  },
  {
   "cell_type": "code",
   "execution_count": null,
   "metadata": {
    "colab": {
     "background_save": true
    },
    "id": "JCdvG05aHGH0"
   },
   "outputs": [],
   "source": [
    "print(y_train.shape)\n",
    "print(y_train)"
   ]
  },
  {
   "cell_type": "code",
   "execution_count": null,
   "metadata": {
    "colab": {
     "background_save": true
    },
    "id": "2cW9ZltnHQ3r"
   },
   "outputs": [],
   "source": [
    "print(X_test.shape)\n",
    "print(X_test)\n",
    "print(y_test.shape)\n",
    "print(y_test)"
   ]
  },
  {
   "cell_type": "markdown",
   "metadata": {
    "id": "P6DElkvAHhZ_"
   },
   "source": [
    "**Feature Scaling**"
   ]
  },
  {
   "cell_type": "code",
   "execution_count": null,
   "metadata": {
    "colab": {
     "background_save": true
    },
    "id": "8HXGylo7H2yf"
   },
   "outputs": [],
   "source": [
    "from sklearn.preprocessing import StandardScaler\n",
    "sc = StandardScaler()\n",
    "X_train = sc.fit_transform(X_train)\n",
    "X_test = sc.transform(X_test)"
   ]
  },
  {
   "cell_type": "code",
   "execution_count": null,
   "metadata": {
    "colab": {
     "background_save": true
    },
    "id": "8PEtWLNDH5Kk"
   },
   "outputs": [],
   "source": [
    "#Notice the mean ~ 0 and std ~ 1 for all the input features\n",
    "pd.DataFrame(X_train, columns=data.columns[:-1]).describe()"
   ]
  },
  {
   "cell_type": "markdown",
   "metadata": {
    "id": "4c2SsmNjIHHP"
   },
   "source": [
    "**Training Various Classification models**"
   ]
  },
  {
   "cell_type": "code",
   "execution_count": null,
   "metadata": {
    "colab": {
     "background_save": true
    },
    "id": "zymIbB37IPzc"
   },
   "outputs": [],
   "source": [
    "from sklearn.metrics import confusion_matrix, classification_report, accuracy_score\n",
    "\n",
    "#function to display an exquisite confusion matrix\n",
    "def disp_cm(y_test, y_pred)->float:\n",
    "    acc_score = accuracy_score(y_test, y_pred)\n",
    "    cm = confusion_matrix(y_test, y_pred)\n",
    "    sns.heatmap(cm, annot=True, fmt=\"d\")\n",
    "    plt.title(f\"Accuracy: {acc_score:0.3f}\")\n",
    "    plt.xlabel(\"Predicted labels\")\n",
    "    plt.ylabel(\"Actual labels\")\n",
    "    plt.show()\n",
    "    return acc_score\n",
    "#function to generate performance report of a classifer\n",
    "def judge_clf(classifier, X_train=X_train, y_train=y_train,\n",
    "              X_test=X_test, y_test=y_test)->float:\n",
    "    classifier.fit(X_train, y_train)\n",
    "    y_pred = classifier.predict(X_test)\n",
    "    acc_score = disp_cm(y_test, y_pred)\n",
    "    print(classification_report(y_test, y_pred))\n",
    "    return acc_score"
   ]
  },
  {
   "cell_type": "code",
   "execution_count": null,
   "metadata": {
    "colab": {
     "background_save": true
    },
    "id": "6z_cCAzFeKnr"
   },
   "outputs": [],
   "source": [
    "# Scatter and density plots\n",
    "def plotScatterMatrix(data, plotSize, textSize):\n",
    "    data = data.select_dtypes(include =[np.number]) # keep only numerical columns\n",
    "    # Remove rows and columns that would lead to df being singular\n",
    "    data = data.dropna('columns')\n",
    "    data = data[[col for col in data if data[col].nunique() > 1]] # keep columns where there are more than 1 unique values\n",
    "    columnNames = list(data)\n",
    "    if len(columnNames) > 10: # reduce the number of columns for matrix inversion of kernel density plots\n",
    "        columnNames = columnNames[:10]\n",
    "    data = data[columnNames]\n",
    "    ax = pd.plotting.scatter_matrix(data, alpha=0.75, figsize=[plotSize, plotSize], diagonal='kde')\n",
    "    corrs = data.corr().values\n",
    "    for i, j in zip(*plt.np.triu_indices_from(ax, k = 1)):\n",
    "        ax[i, j].annotate('Corr. coef = %.3f' % corrs[i, j], (0.8, 0.2), xycoords='axes fraction', ha='center', va='center', size=textSize)\n",
    "    plt.suptitle('Scatter and Density Plot')\n",
    "    plt.show()"
   ]
  },
  {
   "cell_type": "code",
   "execution_count": null,
   "metadata": {
    "colab": {
     "background_save": true
    },
    "id": "I5h8a0r8d2zd"
   },
   "outputs": [],
   "source": [
    "plotScatterMatrix(data, 20, 10)"
   ]
  },
  {
   "cell_type": "markdown",
   "metadata": {
    "id": "L9dQoSKQIp6X"
   },
   "source": [
    "**Logistic Regression**"
   ]
  },
  {
   "cell_type": "code",
   "execution_count": null,
   "metadata": {
    "colab": {
     "background_save": true
    },
    "id": "xvjqvPNPItfJ"
   },
   "outputs": [],
   "source": [
    "from sklearn.linear_model import LogisticRegression\n",
    "log_clf = LogisticRegression(random_state=0)\n",
    "log_acc = judge_clf(log_clf)"
   ]
  },
  {
   "cell_type": "markdown",
   "metadata": {
    "id": "p9aU_W3oI-xU"
   },
   "source": [
    "**KNN**"
   ]
  },
  {
   "cell_type": "code",
   "execution_count": null,
   "metadata": {
    "colab": {
     "background_save": true
    },
    "id": "wuBZywzuI2Ee"
   },
   "outputs": [],
   "source": [
    "from sklearn.neighbors import KNeighborsClassifier\n",
    "knn_clf = KNeighborsClassifier(n_neighbors=5, metric=\"minkowski\", p=2)\n",
    "knn_acc = judge_clf(knn_clf)"
   ]
  },
  {
   "cell_type": "markdown",
   "metadata": {
    "id": "G0ri4vx1JDMs"
   },
   "source": [
    "**SVM LINEAIRE**"
   ]
  },
  {
   "cell_type": "code",
   "execution_count": null,
   "metadata": {
    "colab": {
     "background_save": true
    },
    "id": "bPbbbmMIJMrC"
   },
   "outputs": [],
   "source": [
    "from sklearn.svm import SVC\n",
    "lsvm = SVC(kernel=\"linear\", random_state=0)\n",
    "lsvm_acc = judge_clf(lsvm)"
   ]
  },
  {
   "cell_type": "markdown",
   "metadata": {
    "id": "ECJ8puVzNbEn"
   },
   "source": [
    "**Kernel SVM**"
   ]
  },
  {
   "cell_type": "code",
   "execution_count": null,
   "metadata": {
    "colab": {
     "background_save": true
    },
    "id": "BO6fBmelNjAw"
   },
   "outputs": [],
   "source": [
    "ksvm = SVC(kernel=\"rbf\", random_state=0)\n",
    "ksvm_acc = judge_clf(ksvm)"
   ]
  },
  {
   "cell_type": "markdown",
   "metadata": {
    "id": "0ErJJsxdPl8P"
   },
   "source": [
    "**Naive Bayes**"
   ]
  },
  {
   "cell_type": "code",
   "execution_count": null,
   "metadata": {
    "colab": {
     "background_save": true
    },
    "id": "Nxf4jomDOdZm"
   },
   "outputs": [],
   "source": [
    "from sklearn.naive_bayes import GaussianNB\n",
    "nb_clf = GaussianNB()\n",
    "naiveb_acc = judge_clf(nb_clf)"
   ]
  },
  {
   "cell_type": "markdown",
   "metadata": {
    "id": "X2s1tXx2Pq2i"
   },
   "source": [
    "**Decision Trees**"
   ]
  },
  {
   "cell_type": "code",
   "execution_count": null,
   "metadata": {
    "colab": {
     "background_save": true
    },
    "id": "yD7Jltp_OgUc"
   },
   "outputs": [],
   "source": [
    "from sklearn.tree import DecisionTreeClassifier\n",
    "dtree_clf = DecisionTreeClassifier(criterion=\"entropy\",\n",
    "                                             random_state=0\n",
    "                                  )\n",
    "dtree_acc = judge_clf(dtree_clf)"
   ]
  },
  {
   "cell_type": "markdown",
   "metadata": {
    "id": "ScRX5cvyP1vC"
   },
   "source": [
    "**Random Forest**"
   ]
  },
  {
   "cell_type": "code",
   "execution_count": null,
   "metadata": {
    "colab": {
     "background_save": true
    },
    "id": "jORsDhgfOqDo"
   },
   "outputs": [],
   "source": [
    "from sklearn.ensemble import RandomForestClassifier\n",
    "rfor_clf = RandomForestClassifier(n_estimators=100,\n",
    "                                            criterion=\"entropy\",\n",
    "                                            random_state=0)\n",
    "rfor_acc = judge_clf(rfor_clf)"
   ]
  },
  {
   "cell_type": "markdown",
   "metadata": {
    "id": "FI9rYdGLQHzt"
   },
   "source": [
    "**XGBoost**"
   ]
  },
  {
   "cell_type": "code",
   "execution_count": null,
   "metadata": {
    "colab": {
     "background_save": true
    },
    "id": "6Oj8V_K9Os97"
   },
   "outputs": [],
   "source": [
    "from xgboost import XGBClassifier\n",
    "xgb_clf = XGBClassifier(use_label_encoder=False,\n",
    "                       verbosity=0)\n",
    "xgb_acc = judge_clf(xgb_clf)"
   ]
  },
  {
   "cell_type": "markdown",
   "metadata": {
    "id": "WgwjGe83QNbJ"
   },
   "source": [
    "**MLP (Multi-Layer-Perceptron) classifier**"
   ]
  },
  {
   "cell_type": "code",
   "execution_count": null,
   "metadata": {
    "colab": {
     "background_save": true
    },
    "id": "Lwaf5l63Owdr"
   },
   "outputs": [],
   "source": [
    "import warnings\n",
    "from sklearn.exceptions import ConvergenceWarning\n",
    "warnings.filterwarnings(\"ignore\", category=ConvergenceWarning)"
   ]
  },
  {
   "cell_type": "code",
   "execution_count": null,
   "metadata": {
    "colab": {
     "background_save": true
    },
    "id": "jEFxo_jsOxQi"
   },
   "outputs": [],
   "source": [
    "from sklearn.neural_network import MLPClassifier\n",
    "mlp_clf = MLPClassifier(random_state=0)\n",
    "mlp_acc = judge_clf(mlp_clf)"
   ]
  },
  {
   "cell_type": "markdown",
   "metadata": {
    "id": "3AW1D8JJQUjs"
   },
   "source": [
    "**Comparing Models bin les modéles eli khadmethom**"
   ]
  },
  {
   "cell_type": "code",
   "execution_count": null,
   "metadata": {
    "colab": {
     "background_save": true
    },
    "id": "u-6fM-MSOyMj"
   },
   "outputs": [],
   "source": [
    "models = pd.DataFrame({\n",
    "    'Model': [\"Logistic Regr\", \"KNN\", \"SVM-Linear\", \"SVM-RBF\",\n",
    "             \"Naive Bayes\", \"Decision-Tree\", \"Radom Forest\", \"XGB\",\n",
    "             \"MLP\"],\n",
    "    'Accuracy Score': [log_acc, knn_acc, lsvm_acc, ksvm_acc,\n",
    "                       naiveb_acc, dtree_acc, rfor_acc, xgb_acc,\n",
    "                       mlp_acc]\n",
    "})\n",
    "\n",
    "models.sort_values(by = 'Accuracy Score', ascending = False, ignore_index=True)"
   ]
  },
  {
   "cell_type": "markdown",
   "metadata": {
    "id": "wN_p8HgVQe0o"
   },
   "source": [
    "**K-Fold Cross Validation**"
   ]
  },
  {
   "cell_type": "code",
   "execution_count": null,
   "metadata": {
    "colab": {
     "background_save": true
    },
    "id": "W9-2X0CcOyYo"
   },
   "outputs": [],
   "source": [
    "from sklearn.model_selection import cross_val_score\n",
    "def perform_kfold(clf, X_train=X_train, y_train=y_train)->(float, float):\n",
    "    \"\"\"Performs k-fold cross validation on given data(X_train, y_train) using\n",
    "    the `clf` (aka classifier)\n",
    "\n",
    "    Parameters:\n",
    "    classifer : classifier obj implementing 'fit' method.\n",
    "    X_train (array-like): 2D-array of input features of Training Set.\n",
    "    y_train (array-like): list of target features of Training Set.\n",
    "\n",
    "    Returns:\n",
    "    mean_score (float): Mean of Accuracy scores after operation.\n",
    "    std_score  (float): Standard Deviation of Accuracy scores.\n",
    "    \"\"\"\n",
    "    scores = cross_val_score(estimator=clf, X=X_train, y=y_train,\n",
    "                            cv=10 #number of folds\n",
    "                            )\n",
    "\n",
    "    mean_score = scores.mean()\n",
    "    std_score = scores.std()\n",
    "    print(f\"Mean Accuracy: {mean_score*100:0.3f} %\")\n",
    "    print(f\"Standard Deviation: {std_score*100:0.3f} %\")\n",
    "\n",
    "    return mean_score, std_score\n"
   ]
  },
  {
   "cell_type": "code",
   "execution_count": null,
   "metadata": {
    "colab": {
     "background_save": true
    },
    "id": "vZCZzN-cOyjK"
   },
   "outputs": [],
   "source": [
    "#logistic regression:\n",
    "log_macc, log_std = perform_kfold(log_clf)"
   ]
  },
  {
   "cell_type": "code",
   "execution_count": null,
   "metadata": {
    "colab": {
     "background_save": true
    },
    "id": "afF0t9znPCvc"
   },
   "outputs": [],
   "source": [
    "#KNN:\n",
    "knn_macc, knn_std = perform_kfold(knn_clf)"
   ]
  },
  {
   "cell_type": "code",
   "execution_count": null,
   "metadata": {
    "colab": {
     "background_save": true
    },
    "id": "pZjQRUNVctDm"
   },
   "outputs": [],
   "source": [
    "#svm with linear kernel :\n",
    "lsvm_macc, lsvm_std = perform_kfold(lsvm)\n"
   ]
  },
  {
   "cell_type": "code",
   "execution_count": null,
   "metadata": {
    "colab": {
     "background_save": true
    },
    "id": "TO4fUU0nc4YB",
    "outputId": "4dc7b2c4-a48f-4119-c0ab-3e385dacaaf8"
   },
   "outputs": [],
   "source": [
    "#svm without linear kernel:\n",
    "ksvm_macc, ksvm_std = perform_kfold(ksvm)"
   ]
  },
  {
   "cell_type": "code",
   "execution_count": null,
   "metadata": {
    "colab": {
     "background_save": true
    },
    "id": "c6HzQvIoc4M0",
    "outputId": "e2856e0b-cf50-4d91-8162-8f093754eda0"
   },
   "outputs": [],
   "source": [
    "#naives bayes:\n",
    "naiveb_macc, naiveb_std = perform_kfold(nb_clf)"
   ]
  },
  {
   "cell_type": "code",
   "execution_count": null,
   "metadata": {
    "colab": {
     "background_save": true
    },
    "id": "qYATgO0Yc4Dm",
    "outputId": "c30fc39b-bd5f-4711-c280-e9313d60b598"
   },
   "outputs": [],
   "source": [
    "#decision tree\n",
    "dtree_macc, dtree_std = perform_kfold(dtree_clf)"
   ]
  },
  {
   "cell_type": "code",
   "execution_count": null,
   "metadata": {
    "colab": {
     "background_save": true
    },
    "id": "4gvfLsqUc350",
    "outputId": "9cb27868-d4c7-48c6-8bcc-0d14aa663358"
   },
   "outputs": [],
   "source": [
    "#random forest\n",
    "rfor_macc, rfor_std = perform_kfold(rfor_clf)"
   ]
  },
  {
   "cell_type": "code",
   "execution_count": null,
   "metadata": {
    "colab": {
     "background_save": true
    },
    "id": "mo1kvh9Yc3vx",
    "outputId": "f8dbb526-da7a-456b-9205-3bcc7273f430"
   },
   "outputs": [],
   "source": [
    "#xgboot\n",
    "xgb_macc, xgb_std = perform_kfold(xgb_clf)"
   ]
  },
  {
   "cell_type": "code",
   "execution_count": null,
   "metadata": {
    "colab": {
     "background_save": true
    },
    "id": "hNc96vFhc3jt",
    "outputId": "f154cfed-65f7-4f3b-cb3c-d35205fff1e7"
   },
   "outputs": [],
   "source": [
    "#mlp classifier\n",
    "mlp_macc, mlp_std = perform_kfold(mlp_clf)"
   ]
  },
  {
   "cell_type": "code",
   "execution_count": null,
   "metadata": {
    "colab": {
     "background_save": true
    },
    "id": "s6O3w24EdGaK",
    "outputId": "1fafd242-ef2b-4fbe-80b5-f222180ab74d"
   },
   "outputs": [],
   "source": [
    "#comparaison entre les modéles apres cross validation\n",
    "models_1 = pd.DataFrame({\n",
    "    \"Model\": [\"Logistic Regr\", \"KNN\", \"SVM-Linear\", \"SVM-RBF\",\n",
    "             \"Naive Bayes\", \"Decision-Tree\", \"Radom Forest\", \"XGB\",\n",
    "             \"MLP\"],\n",
    "    \"Mean Accuracy Score\": [log_macc, knn_macc, lsvm_macc, ksvm_macc,\n",
    "                       naiveb_macc, dtree_macc, rfor_macc, xgb_macc,\n",
    "                       mlp_macc],\n",
    "    \"Stadard Dev\": [log_std, knn_std, lsvm_std, ksvm_std,\n",
    "                       naiveb_std, dtree_std, rfor_std, xgb_std,\n",
    "                       mlp_std]\n",
    "})\n",
    "\n",
    "models_1.sort_values(by = 'Mean Accuracy Score', ascending = False,\n",
    "                     ignore_index=True)"
   ]
  },
  {
   "cell_type": "code",
   "execution_count": null,
   "metadata": {
    "colab": {
     "background_save": true
    },
    "id": "HZ9CKpRldGOT"
   },
   "outputs": [],
   "source": [
    "import pickle"
   ]
  },
  {
   "cell_type": "code",
   "execution_count": null,
   "metadata": {
    "colab": {
     "background_save": true
    },
    "id": "c1_lkVCCSo8L"
   },
   "outputs": [],
   "source": [
    "filename='diabetes_model.sav'\n",
    "pickle.dump(RandomForestClassifier , open(filename, 'wb'))"
   ]
  },
  {
   "cell_type": "code",
   "execution_count": null,
   "metadata": {
    "colab": {
     "background_save": true
    },
    "id": "XnJwYJAjS0Um"
   },
   "outputs": [],
   "source": [
    "loaded_model = pickle.load(open('diabetes_model.sav', 'rb'))"
   ]
  }
 ],
 "metadata": {
  "colab": {
   "provenance": []
  },
  "kernelspec": {
   "display_name": "Python 3 (ipykernel)",
   "language": "python",
   "name": "python3"
  },
  "language_info": {
   "codemirror_mode": {
    "name": "ipython",
    "version": 3
   },
   "file_extension": ".py",
   "mimetype": "text/x-python",
   "name": "python",
   "nbconvert_exporter": "python",
   "pygments_lexer": "ipython3",
   "version": "3.9.12"
  }
 },
 "nbformat": 4,
 "nbformat_minor": 1
}
